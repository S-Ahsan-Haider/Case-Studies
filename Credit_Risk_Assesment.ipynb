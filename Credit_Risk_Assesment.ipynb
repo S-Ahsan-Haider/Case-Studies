{
  "cells": [
    {
      "cell_type": "markdown",
      "metadata": {
        "id": "view-in-github",
        "colab_type": "text"
      },
      "source": [
        "<a href=\"https://colab.research.google.com/github/S-Ahsan-Haider/Case-Studies/blob/main/Credit_Risk_Assesment.ipynb\" target=\"_parent\"><img src=\"https://colab.research.google.com/assets/colab-badge.svg\" alt=\"Open In Colab\"/></a>"
      ]
    },
    {
      "cell_type": "markdown",
      "metadata": {
        "id": "ZImvu3iaok_g"
      },
      "source": [
        "## Loading Data and Libraries"
      ]
    },
    {
      "cell_type": "code",
      "execution_count": null,
      "metadata": {
        "colab": {
          "background_save": true,
          "base_uri": "https://localhost:8080/",
          "height": 57
        },
        "id": "UHeyXIWUsvzB",
        "outputId": "6a484f6f-77bf-4f3d-fd79-ea0bffb68419"
      },
      "outputs": [
        {
          "data": {
            "text/html": [
              "\n",
              "     <input type=\"file\" id=\"files-941534bc-4fa3-4942-8a03-97fb55d3770f\" name=\"files[]\" multiple disabled\n",
              "        style=\"border:none\" />\n",
              "     <output id=\"result-941534bc-4fa3-4942-8a03-97fb55d3770f\">\n",
              "      Upload widget is only available when the cell has been executed in the\n",
              "      current browser session. Please rerun this cell to enable.\n",
              "      </output>\n",
              "      <script>// Copyright 2017 Google LLC\n",
              "//\n",
              "// Licensed under the Apache License, Version 2.0 (the \"License\");\n",
              "// you may not use this file except in compliance with the License.\n",
              "// You may obtain a copy of the License at\n",
              "//\n",
              "//      http://www.apache.org/licenses/LICENSE-2.0\n",
              "//\n",
              "// Unless required by applicable law or agreed to in writing, software\n",
              "// distributed under the License is distributed on an \"AS IS\" BASIS,\n",
              "// WITHOUT WARRANTIES OR CONDITIONS OF ANY KIND, either express or implied.\n",
              "// See the License for the specific language governing permissions and\n",
              "// limitations under the License.\n",
              "\n",
              "/**\n",
              " * @fileoverview Helpers for google.colab Python module.\n",
              " */\n",
              "(function(scope) {\n",
              "function span(text, styleAttributes = {}) {\n",
              "  const element = document.createElement('span');\n",
              "  element.textContent = text;\n",
              "  for (const key of Object.keys(styleAttributes)) {\n",
              "    element.style[key] = styleAttributes[key];\n",
              "  }\n",
              "  return element;\n",
              "}\n",
              "\n",
              "// Max number of bytes which will be uploaded at a time.\n",
              "const MAX_PAYLOAD_SIZE = 100 * 1024;\n",
              "\n",
              "function _uploadFiles(inputId, outputId) {\n",
              "  const steps = uploadFilesStep(inputId, outputId);\n",
              "  const outputElement = document.getElementById(outputId);\n",
              "  // Cache steps on the outputElement to make it available for the next call\n",
              "  // to uploadFilesContinue from Python.\n",
              "  outputElement.steps = steps;\n",
              "\n",
              "  return _uploadFilesContinue(outputId);\n",
              "}\n",
              "\n",
              "// This is roughly an async generator (not supported in the browser yet),\n",
              "// where there are multiple asynchronous steps and the Python side is going\n",
              "// to poll for completion of each step.\n",
              "// This uses a Promise to block the python side on completion of each step,\n",
              "// then passes the result of the previous step as the input to the next step.\n",
              "function _uploadFilesContinue(outputId) {\n",
              "  const outputElement = document.getElementById(outputId);\n",
              "  const steps = outputElement.steps;\n",
              "\n",
              "  const next = steps.next(outputElement.lastPromiseValue);\n",
              "  return Promise.resolve(next.value.promise).then((value) => {\n",
              "    // Cache the last promise value to make it available to the next\n",
              "    // step of the generator.\n",
              "    outputElement.lastPromiseValue = value;\n",
              "    return next.value.response;\n",
              "  });\n",
              "}\n",
              "\n",
              "/**\n",
              " * Generator function which is called between each async step of the upload\n",
              " * process.\n",
              " * @param {string} inputId Element ID of the input file picker element.\n",
              " * @param {string} outputId Element ID of the output display.\n",
              " * @return {!Iterable<!Object>} Iterable of next steps.\n",
              " */\n",
              "function* uploadFilesStep(inputId, outputId) {\n",
              "  const inputElement = document.getElementById(inputId);\n",
              "  inputElement.disabled = false;\n",
              "\n",
              "  const outputElement = document.getElementById(outputId);\n",
              "  outputElement.innerHTML = '';\n",
              "\n",
              "  const pickedPromise = new Promise((resolve) => {\n",
              "    inputElement.addEventListener('change', (e) => {\n",
              "      resolve(e.target.files);\n",
              "    });\n",
              "  });\n",
              "\n",
              "  const cancel = document.createElement('button');\n",
              "  inputElement.parentElement.appendChild(cancel);\n",
              "  cancel.textContent = 'Cancel upload';\n",
              "  const cancelPromise = new Promise((resolve) => {\n",
              "    cancel.onclick = () => {\n",
              "      resolve(null);\n",
              "    };\n",
              "  });\n",
              "\n",
              "  // Wait for the user to pick the files.\n",
              "  const files = yield {\n",
              "    promise: Promise.race([pickedPromise, cancelPromise]),\n",
              "    response: {\n",
              "      action: 'starting',\n",
              "    }\n",
              "  };\n",
              "\n",
              "  cancel.remove();\n",
              "\n",
              "  // Disable the input element since further picks are not allowed.\n",
              "  inputElement.disabled = true;\n",
              "\n",
              "  if (!files) {\n",
              "    return {\n",
              "      response: {\n",
              "        action: 'complete',\n",
              "      }\n",
              "    };\n",
              "  }\n",
              "\n",
              "  for (const file of files) {\n",
              "    const li = document.createElement('li');\n",
              "    li.append(span(file.name, {fontWeight: 'bold'}));\n",
              "    li.append(span(\n",
              "        `(${file.type || 'n/a'}) - ${file.size} bytes, ` +\n",
              "        `last modified: ${\n",
              "            file.lastModifiedDate ? file.lastModifiedDate.toLocaleDateString() :\n",
              "                                    'n/a'} - `));\n",
              "    const percent = span('0% done');\n",
              "    li.appendChild(percent);\n",
              "\n",
              "    outputElement.appendChild(li);\n",
              "\n",
              "    const fileDataPromise = new Promise((resolve) => {\n",
              "      const reader = new FileReader();\n",
              "      reader.onload = (e) => {\n",
              "        resolve(e.target.result);\n",
              "      };\n",
              "      reader.readAsArrayBuffer(file);\n",
              "    });\n",
              "    // Wait for the data to be ready.\n",
              "    let fileData = yield {\n",
              "      promise: fileDataPromise,\n",
              "      response: {\n",
              "        action: 'continue',\n",
              "      }\n",
              "    };\n",
              "\n",
              "    // Use a chunked sending to avoid message size limits. See b/62115660.\n",
              "    let position = 0;\n",
              "    do {\n",
              "      const length = Math.min(fileData.byteLength - position, MAX_PAYLOAD_SIZE);\n",
              "      const chunk = new Uint8Array(fileData, position, length);\n",
              "      position += length;\n",
              "\n",
              "      const base64 = btoa(String.fromCharCode.apply(null, chunk));\n",
              "      yield {\n",
              "        response: {\n",
              "          action: 'append',\n",
              "          file: file.name,\n",
              "          data: base64,\n",
              "        },\n",
              "      };\n",
              "\n",
              "      let percentDone = fileData.byteLength === 0 ?\n",
              "          100 :\n",
              "          Math.round((position / fileData.byteLength) * 100);\n",
              "      percent.textContent = `${percentDone}% done`;\n",
              "\n",
              "    } while (position < fileData.byteLength);\n",
              "  }\n",
              "\n",
              "  // All done.\n",
              "  yield {\n",
              "    response: {\n",
              "      action: 'complete',\n",
              "    }\n",
              "  };\n",
              "}\n",
              "\n",
              "scope.google = scope.google || {};\n",
              "scope.google.colab = scope.google.colab || {};\n",
              "scope.google.colab._files = {\n",
              "  _uploadFiles,\n",
              "  _uploadFilesContinue,\n",
              "};\n",
              "})(self);\n",
              "</script> "
            ],
            "text/plain": [
              "<IPython.core.display.HTML object>"
            ]
          },
          "metadata": {},
          "output_type": "display_data"
        }
      ],
      "source": [
        "from google.colab import files\n",
        "uploaded = files.upload()"
      ]
    },
    {
      "cell_type": "code",
      "execution_count": null,
      "metadata": {
        "id": "vm6Pw2ajtVFK"
      },
      "outputs": [],
      "source": [
        "import numpy as np\n",
        "import pandas as pd\n",
        "import scipy.stats as s\n",
        "import io\n",
        "import matplotlib.pyplot as plt\n",
        "import seaborn as sns\n",
        "data = pd.read_csv(io.BytesIO(uploaded['Credit_score.csv']))\n",
        "pd.set_option('display.max_columns', 50)"
      ]
    },
    {
      "cell_type": "markdown",
      "metadata": {
        "id": "I15HkyXFopjF"
      },
      "source": [
        "## Data Structure"
      ]
    },
    {
      "cell_type": "code",
      "execution_count": null,
      "metadata": {
        "id": "9gCfz_XmKR1P"
      },
      "outputs": [],
      "source": [
        "# Creating a workable copy\n",
        "\n",
        "df = data.copy()"
      ]
    },
    {
      "cell_type": "code",
      "execution_count": null,
      "metadata": {
        "colab": {
          "base_uri": "https://localhost:8080/"
        },
        "id": "1SF1My5qtgZC",
        "outputId": "45dc5257-f51e-4894-b81f-0ed62ce0273c"
      },
      "outputs": [
        {
          "data": {
            "text/plain": [
              "(100000, 30)"
            ]
          },
          "execution_count": 83,
          "metadata": {},
          "output_type": "execute_result"
        }
      ],
      "source": [
        "df.shape"
      ]
    },
    {
      "cell_type": "code",
      "execution_count": null,
      "metadata": {
        "colab": {
          "base_uri": "https://localhost:8080/",
          "height": 337
        },
        "id": "1Gs8MxyvtntS",
        "outputId": "0690b247-cf41-4774-9290-6d8437c59a26"
      },
      "outputs": [
        {
          "data": {
            "application/vnd.google.colaboratory.intrinsic+json": {
              "type": "dataframe",
              "variable_name": "df"
            },
            "text/html": [
              "\n",
              "  <div id=\"df-d3d24ec5-51f8-4b08-9a87-21c82235db90\" class=\"colab-df-container\">\n",
              "    <div>\n",
              "<style scoped>\n",
              "    .dataframe tbody tr th:only-of-type {\n",
              "        vertical-align: middle;\n",
              "    }\n",
              "\n",
              "    .dataframe tbody tr th {\n",
              "        vertical-align: top;\n",
              "    }\n",
              "\n",
              "    .dataframe thead th {\n",
              "        text-align: right;\n",
              "    }\n",
              "</style>\n",
              "<table border=\"1\" class=\"dataframe\">\n",
              "  <thead>\n",
              "    <tr style=\"text-align: right;\">\n",
              "      <th></th>\n",
              "      <th>ID</th>\n",
              "      <th>Customer_ID</th>\n",
              "      <th>Month</th>\n",
              "      <th>Name</th>\n",
              "      <th>Age</th>\n",
              "      <th>SSN</th>\n",
              "      <th>Occupation</th>\n",
              "      <th>Annual_Income</th>\n",
              "      <th>Monthly_Inhand_Salary</th>\n",
              "      <th>Num_Bank_Accounts</th>\n",
              "      <th>Num_Credit_Card</th>\n",
              "      <th>Interest_Rate</th>\n",
              "      <th>Num_of_Loan</th>\n",
              "      <th>Type_of_Loan</th>\n",
              "      <th>Delay_from_due_date</th>\n",
              "      <th>Num_of_Delayed_Payment</th>\n",
              "      <th>Changed_Credit_Limit</th>\n",
              "      <th>Num_Credit_Inquiries</th>\n",
              "      <th>Credit_Mix</th>\n",
              "      <th>Outstanding_Debt</th>\n",
              "      <th>Credit_Utilization_Ratio</th>\n",
              "      <th>Credit_History_Age</th>\n",
              "      <th>Payment_of_Min_Amount</th>\n",
              "      <th>Total_EMI_per_month</th>\n",
              "      <th>Amount_invested_monthly</th>\n",
              "      <th>Payment_Behaviour</th>\n",
              "      <th>Monthly_Balance</th>\n",
              "      <th>Unnamed: 27</th>\n",
              "      <th>Unnamed: 28</th>\n",
              "      <th>Unnamed: 29</th>\n",
              "    </tr>\n",
              "  </thead>\n",
              "  <tbody>\n",
              "    <tr>\n",
              "      <th>0</th>\n",
              "      <td>0x1602</td>\n",
              "      <td>CUS_0xd40</td>\n",
              "      <td>January</td>\n",
              "      <td>Aaron Maashoh</td>\n",
              "      <td>23</td>\n",
              "      <td>821-00-0265</td>\n",
              "      <td>Scientist</td>\n",
              "      <td>19114.12</td>\n",
              "      <td>1824.843333</td>\n",
              "      <td>3</td>\n",
              "      <td>4</td>\n",
              "      <td>3</td>\n",
              "      <td>4</td>\n",
              "      <td>Auto Loan, Credit-Builder Loan, Personal Loan,...</td>\n",
              "      <td>3</td>\n",
              "      <td>7</td>\n",
              "      <td>11.27</td>\n",
              "      <td>4.0</td>\n",
              "      <td>_</td>\n",
              "      <td>809.98</td>\n",
              "      <td>26.822620</td>\n",
              "      <td>22 Years and 1 Months</td>\n",
              "      <td>No</td>\n",
              "      <td>49.574949</td>\n",
              "      <td>80.41529544</td>\n",
              "      <td>High_spent_Small_value_payments</td>\n",
              "      <td>312.4940887</td>\n",
              "      <td>NaN</td>\n",
              "      <td>NaN</td>\n",
              "      <td>..</td>\n",
              "    </tr>\n",
              "    <tr>\n",
              "      <th>1</th>\n",
              "      <td>0x1603</td>\n",
              "      <td>CUS_0xd40</td>\n",
              "      <td>February</td>\n",
              "      <td>Aaron Maashoh</td>\n",
              "      <td>23</td>\n",
              "      <td>821-00-0265</td>\n",
              "      <td>Scientist</td>\n",
              "      <td>19114.12</td>\n",
              "      <td>NaN</td>\n",
              "      <td>3</td>\n",
              "      <td>4</td>\n",
              "      <td>3</td>\n",
              "      <td>4</td>\n",
              "      <td>Auto Loan, Credit-Builder Loan, Personal Loan,...</td>\n",
              "      <td>-1</td>\n",
              "      <td>NaN</td>\n",
              "      <td>11.27</td>\n",
              "      <td>4.0</td>\n",
              "      <td>Good</td>\n",
              "      <td>809.98</td>\n",
              "      <td>31.944960</td>\n",
              "      <td>NaN</td>\n",
              "      <td>No</td>\n",
              "      <td>49.574949</td>\n",
              "      <td>118.2802216</td>\n",
              "      <td>Low_spent_Large_value_payments</td>\n",
              "      <td>284.6291625</td>\n",
              "      <td>NaN</td>\n",
              "      <td>NaN</td>\n",
              "      <td>NaN</td>\n",
              "    </tr>\n",
              "    <tr>\n",
              "      <th>2</th>\n",
              "      <td>0x1604</td>\n",
              "      <td>CUS_0xd40</td>\n",
              "      <td>March</td>\n",
              "      <td>Aaron Maashoh</td>\n",
              "      <td>-500</td>\n",
              "      <td>821-00-0265</td>\n",
              "      <td>Scientist</td>\n",
              "      <td>19114.12</td>\n",
              "      <td>NaN</td>\n",
              "      <td>3</td>\n",
              "      <td>4</td>\n",
              "      <td>3</td>\n",
              "      <td>4</td>\n",
              "      <td>Auto Loan, Credit-Builder Loan, Personal Loan,...</td>\n",
              "      <td>3</td>\n",
              "      <td>7</td>\n",
              "      <td>_</td>\n",
              "      <td>4.0</td>\n",
              "      <td>Good</td>\n",
              "      <td>809.98</td>\n",
              "      <td>28.609352</td>\n",
              "      <td>22 Years and 3 Months</td>\n",
              "      <td>No</td>\n",
              "      <td>49.574949</td>\n",
              "      <td>81.69952126</td>\n",
              "      <td>Low_spent_Medium_value_payments</td>\n",
              "      <td>331.2098629</td>\n",
              "      <td>NaN</td>\n",
              "      <td>NaN</td>\n",
              "      <td>NaN</td>\n",
              "    </tr>\n",
              "  </tbody>\n",
              "</table>\n",
              "</div>\n",
              "    <div class=\"colab-df-buttons\">\n",
              "\n",
              "  <div class=\"colab-df-container\">\n",
              "    <button class=\"colab-df-convert\" onclick=\"convertToInteractive('df-d3d24ec5-51f8-4b08-9a87-21c82235db90')\"\n",
              "            title=\"Convert this dataframe to an interactive table.\"\n",
              "            style=\"display:none;\">\n",
              "\n",
              "  <svg xmlns=\"http://www.w3.org/2000/svg\" height=\"24px\" viewBox=\"0 -960 960 960\">\n",
              "    <path d=\"M120-120v-720h720v720H120Zm60-500h600v-160H180v160Zm220 220h160v-160H400v160Zm0 220h160v-160H400v160ZM180-400h160v-160H180v160Zm440 0h160v-160H620v160ZM180-180h160v-160H180v160Zm440 0h160v-160H620v160Z\"/>\n",
              "  </svg>\n",
              "    </button>\n",
              "\n",
              "  <style>\n",
              "    .colab-df-container {\n",
              "      display:flex;\n",
              "      gap: 12px;\n",
              "    }\n",
              "\n",
              "    .colab-df-convert {\n",
              "      background-color: #E8F0FE;\n",
              "      border: none;\n",
              "      border-radius: 50%;\n",
              "      cursor: pointer;\n",
              "      display: none;\n",
              "      fill: #1967D2;\n",
              "      height: 32px;\n",
              "      padding: 0 0 0 0;\n",
              "      width: 32px;\n",
              "    }\n",
              "\n",
              "    .colab-df-convert:hover {\n",
              "      background-color: #E2EBFA;\n",
              "      box-shadow: 0px 1px 2px rgba(60, 64, 67, 0.3), 0px 1px 3px 1px rgba(60, 64, 67, 0.15);\n",
              "      fill: #174EA6;\n",
              "    }\n",
              "\n",
              "    .colab-df-buttons div {\n",
              "      margin-bottom: 4px;\n",
              "    }\n",
              "\n",
              "    [theme=dark] .colab-df-convert {\n",
              "      background-color: #3B4455;\n",
              "      fill: #D2E3FC;\n",
              "    }\n",
              "\n",
              "    [theme=dark] .colab-df-convert:hover {\n",
              "      background-color: #434B5C;\n",
              "      box-shadow: 0px 1px 3px 1px rgba(0, 0, 0, 0.15);\n",
              "      filter: drop-shadow(0px 1px 2px rgba(0, 0, 0, 0.3));\n",
              "      fill: #FFFFFF;\n",
              "    }\n",
              "  </style>\n",
              "\n",
              "    <script>\n",
              "      const buttonEl =\n",
              "        document.querySelector('#df-d3d24ec5-51f8-4b08-9a87-21c82235db90 button.colab-df-convert');\n",
              "      buttonEl.style.display =\n",
              "        google.colab.kernel.accessAllowed ? 'block' : 'none';\n",
              "\n",
              "      async function convertToInteractive(key) {\n",
              "        const element = document.querySelector('#df-d3d24ec5-51f8-4b08-9a87-21c82235db90');\n",
              "        const dataTable =\n",
              "          await google.colab.kernel.invokeFunction('convertToInteractive',\n",
              "                                                    [key], {});\n",
              "        if (!dataTable) return;\n",
              "\n",
              "        const docLinkHtml = 'Like what you see? Visit the ' +\n",
              "          '<a target=\"_blank\" href=https://colab.research.google.com/notebooks/data_table.ipynb>data table notebook</a>'\n",
              "          + ' to learn more about interactive tables.';\n",
              "        element.innerHTML = '';\n",
              "        dataTable['output_type'] = 'display_data';\n",
              "        await google.colab.output.renderOutput(dataTable, element);\n",
              "        const docLink = document.createElement('div');\n",
              "        docLink.innerHTML = docLinkHtml;\n",
              "        element.appendChild(docLink);\n",
              "      }\n",
              "    </script>\n",
              "  </div>\n",
              "\n",
              "\n",
              "<div id=\"df-434c6c0f-79fd-49ff-bde1-79b94d36848d\">\n",
              "  <button class=\"colab-df-quickchart\" onclick=\"quickchart('df-434c6c0f-79fd-49ff-bde1-79b94d36848d')\"\n",
              "            title=\"Suggest charts\"\n",
              "            style=\"display:none;\">\n",
              "\n",
              "<svg xmlns=\"http://www.w3.org/2000/svg\" height=\"24px\"viewBox=\"0 0 24 24\"\n",
              "     width=\"24px\">\n",
              "    <g>\n",
              "        <path d=\"M19 3H5c-1.1 0-2 .9-2 2v14c0 1.1.9 2 2 2h14c1.1 0 2-.9 2-2V5c0-1.1-.9-2-2-2zM9 17H7v-7h2v7zm4 0h-2V7h2v10zm4 0h-2v-4h2v4z\"/>\n",
              "    </g>\n",
              "</svg>\n",
              "  </button>\n",
              "\n",
              "<style>\n",
              "  .colab-df-quickchart {\n",
              "      --bg-color: #E8F0FE;\n",
              "      --fill-color: #1967D2;\n",
              "      --hover-bg-color: #E2EBFA;\n",
              "      --hover-fill-color: #174EA6;\n",
              "      --disabled-fill-color: #AAA;\n",
              "      --disabled-bg-color: #DDD;\n",
              "  }\n",
              "\n",
              "  [theme=dark] .colab-df-quickchart {\n",
              "      --bg-color: #3B4455;\n",
              "      --fill-color: #D2E3FC;\n",
              "      --hover-bg-color: #434B5C;\n",
              "      --hover-fill-color: #FFFFFF;\n",
              "      --disabled-bg-color: #3B4455;\n",
              "      --disabled-fill-color: #666;\n",
              "  }\n",
              "\n",
              "  .colab-df-quickchart {\n",
              "    background-color: var(--bg-color);\n",
              "    border: none;\n",
              "    border-radius: 50%;\n",
              "    cursor: pointer;\n",
              "    display: none;\n",
              "    fill: var(--fill-color);\n",
              "    height: 32px;\n",
              "    padding: 0;\n",
              "    width: 32px;\n",
              "  }\n",
              "\n",
              "  .colab-df-quickchart:hover {\n",
              "    background-color: var(--hover-bg-color);\n",
              "    box-shadow: 0 1px 2px rgba(60, 64, 67, 0.3), 0 1px 3px 1px rgba(60, 64, 67, 0.15);\n",
              "    fill: var(--button-hover-fill-color);\n",
              "  }\n",
              "\n",
              "  .colab-df-quickchart-complete:disabled,\n",
              "  .colab-df-quickchart-complete:disabled:hover {\n",
              "    background-color: var(--disabled-bg-color);\n",
              "    fill: var(--disabled-fill-color);\n",
              "    box-shadow: none;\n",
              "  }\n",
              "\n",
              "  .colab-df-spinner {\n",
              "    border: 2px solid var(--fill-color);\n",
              "    border-color: transparent;\n",
              "    border-bottom-color: var(--fill-color);\n",
              "    animation:\n",
              "      spin 1s steps(1) infinite;\n",
              "  }\n",
              "\n",
              "  @keyframes spin {\n",
              "    0% {\n",
              "      border-color: transparent;\n",
              "      border-bottom-color: var(--fill-color);\n",
              "      border-left-color: var(--fill-color);\n",
              "    }\n",
              "    20% {\n",
              "      border-color: transparent;\n",
              "      border-left-color: var(--fill-color);\n",
              "      border-top-color: var(--fill-color);\n",
              "    }\n",
              "    30% {\n",
              "      border-color: transparent;\n",
              "      border-left-color: var(--fill-color);\n",
              "      border-top-color: var(--fill-color);\n",
              "      border-right-color: var(--fill-color);\n",
              "    }\n",
              "    40% {\n",
              "      border-color: transparent;\n",
              "      border-right-color: var(--fill-color);\n",
              "      border-top-color: var(--fill-color);\n",
              "    }\n",
              "    60% {\n",
              "      border-color: transparent;\n",
              "      border-right-color: var(--fill-color);\n",
              "    }\n",
              "    80% {\n",
              "      border-color: transparent;\n",
              "      border-right-color: var(--fill-color);\n",
              "      border-bottom-color: var(--fill-color);\n",
              "    }\n",
              "    90% {\n",
              "      border-color: transparent;\n",
              "      border-bottom-color: var(--fill-color);\n",
              "    }\n",
              "  }\n",
              "</style>\n",
              "\n",
              "  <script>\n",
              "    async function quickchart(key) {\n",
              "      const quickchartButtonEl =\n",
              "        document.querySelector('#' + key + ' button');\n",
              "      quickchartButtonEl.disabled = true;  // To prevent multiple clicks.\n",
              "      quickchartButtonEl.classList.add('colab-df-spinner');\n",
              "      try {\n",
              "        const charts = await google.colab.kernel.invokeFunction(\n",
              "            'suggestCharts', [key], {});\n",
              "      } catch (error) {\n",
              "        console.error('Error during call to suggestCharts:', error);\n",
              "      }\n",
              "      quickchartButtonEl.classList.remove('colab-df-spinner');\n",
              "      quickchartButtonEl.classList.add('colab-df-quickchart-complete');\n",
              "    }\n",
              "    (() => {\n",
              "      let quickchartButtonEl =\n",
              "        document.querySelector('#df-434c6c0f-79fd-49ff-bde1-79b94d36848d button');\n",
              "      quickchartButtonEl.style.display =\n",
              "        google.colab.kernel.accessAllowed ? 'block' : 'none';\n",
              "    })();\n",
              "  </script>\n",
              "</div>\n",
              "\n",
              "    </div>\n",
              "  </div>\n"
            ],
            "text/plain": [
              "       ID Customer_ID     Month           Name   Age          SSN Occupation  \\\n",
              "0  0x1602   CUS_0xd40   January  Aaron Maashoh    23  821-00-0265  Scientist   \n",
              "1  0x1603   CUS_0xd40  February  Aaron Maashoh    23  821-00-0265  Scientist   \n",
              "2  0x1604   CUS_0xd40     March  Aaron Maashoh  -500  821-00-0265  Scientist   \n",
              "\n",
              "  Annual_Income  Monthly_Inhand_Salary  Num_Bank_Accounts  Num_Credit_Card  \\\n",
              "0      19114.12            1824.843333                  3                4   \n",
              "1      19114.12                    NaN                  3                4   \n",
              "2      19114.12                    NaN                  3                4   \n",
              "\n",
              "   Interest_Rate Num_of_Loan  \\\n",
              "0              3           4   \n",
              "1              3           4   \n",
              "2              3           4   \n",
              "\n",
              "                                        Type_of_Loan  Delay_from_due_date  \\\n",
              "0  Auto Loan, Credit-Builder Loan, Personal Loan,...                    3   \n",
              "1  Auto Loan, Credit-Builder Loan, Personal Loan,...                   -1   \n",
              "2  Auto Loan, Credit-Builder Loan, Personal Loan,...                    3   \n",
              "\n",
              "  Num_of_Delayed_Payment Changed_Credit_Limit  Num_Credit_Inquiries  \\\n",
              "0                      7                11.27                   4.0   \n",
              "1                    NaN                11.27                   4.0   \n",
              "2                      7                    _                   4.0   \n",
              "\n",
              "  Credit_Mix Outstanding_Debt  Credit_Utilization_Ratio  \\\n",
              "0          _           809.98                 26.822620   \n",
              "1       Good           809.98                 31.944960   \n",
              "2       Good           809.98                 28.609352   \n",
              "\n",
              "      Credit_History_Age Payment_of_Min_Amount  Total_EMI_per_month  \\\n",
              "0  22 Years and 1 Months                    No            49.574949   \n",
              "1                    NaN                    No            49.574949   \n",
              "2  22 Years and 3 Months                    No            49.574949   \n",
              "\n",
              "  Amount_invested_monthly                Payment_Behaviour Monthly_Balance  \\\n",
              "0             80.41529544  High_spent_Small_value_payments     312.4940887   \n",
              "1             118.2802216   Low_spent_Large_value_payments     284.6291625   \n",
              "2             81.69952126  Low_spent_Medium_value_payments     331.2098629   \n",
              "\n",
              "   Unnamed: 27  Unnamed: 28 Unnamed: 29  \n",
              "0          NaN          NaN          ..  \n",
              "1          NaN          NaN         NaN  \n",
              "2          NaN          NaN         NaN  "
            ]
          },
          "execution_count": 84,
          "metadata": {},
          "output_type": "execute_result"
        }
      ],
      "source": [
        "df.head(3)"
      ]
    },
    {
      "cell_type": "code",
      "execution_count": null,
      "metadata": {
        "colab": {
          "base_uri": "https://localhost:8080/"
        },
        "id": "uWfdrMogtpes",
        "outputId": "bb27cd78-bfda-46d9-f8fb-8ae9829dc7ee"
      },
      "outputs": [
        {
          "data": {
            "text/plain": [
              "Index(['ID', 'Customer_ID', 'Month', 'Name', 'Age', 'SSN', 'Occupation',\n",
              "       'Annual_Income', 'Monthly_Inhand_Salary', 'Num_Bank_Accounts',\n",
              "       'Num_Credit_Card', 'Interest_Rate', 'Num_of_Loan', 'Type_of_Loan',\n",
              "       'Delay_from_due_date', 'Num_of_Delayed_Payment', 'Changed_Credit_Limit',\n",
              "       'Num_Credit_Inquiries', 'Credit_Mix', 'Outstanding_Debt',\n",
              "       'Credit_Utilization_Ratio', 'Credit_History_Age',\n",
              "       'Payment_of_Min_Amount', 'Total_EMI_per_month',\n",
              "       'Amount_invested_monthly', 'Payment_Behaviour', 'Monthly_Balance',\n",
              "       'Unnamed: 27', 'Unnamed: 28', 'Unnamed: 29'],\n",
              "      dtype='object')"
            ]
          },
          "execution_count": 85,
          "metadata": {},
          "output_type": "execute_result"
        }
      ],
      "source": [
        "df.columns"
      ]
    },
    {
      "cell_type": "code",
      "execution_count": null,
      "metadata": {
        "colab": {
          "base_uri": "https://localhost:8080/",
          "height": 321
        },
        "id": "oSyuY2D-_StT",
        "outputId": "6ef63963-89dc-4440-bcfd-442fd7be08c8"
      },
      "outputs": [
        {
          "data": {
            "application/vnd.google.colaboratory.intrinsic+json": {
              "summary": "{\n  \"name\": \"df\",\n  \"rows\": 8,\n  \"fields\": [\n    {\n      \"column\": \"Monthly_Inhand_Salary\",\n      \"properties\": {\n        \"dtype\": \"number\",\n        \"std\": 28721.020500119503,\n        \"min\": 303.6454167,\n        \"max\": 84998.0,\n        \"num_unique_values\": 8,\n        \"samples\": [\n          4194.170849592996,\n          3093.745,\n          84998.0\n        ],\n        \"semantic_type\": \"\",\n        \"description\": \"\"\n      }\n    },\n    {\n      \"column\": \"Num_Bank_Accounts\",\n      \"properties\": {\n        \"dtype\": \"number\",\n        \"std\": 35262.45571123334,\n        \"min\": -1.0,\n        \"max\": 100000.0,\n        \"num_unique_values\": 8,\n        \"samples\": [\n          17.09128,\n          6.0,\n          100000.0\n        ],\n        \"semantic_type\": \"\",\n        \"description\": \"\"\n      }\n    },\n    {\n      \"column\": \"Num_Credit_Card\",\n      \"properties\": {\n        \"dtype\": \"number\",\n        \"std\": 35274.94819246088,\n        \"min\": 0.0,\n        \"max\": 100000.0,\n        \"num_unique_values\": 8,\n        \"samples\": [\n          22.47443,\n          5.0,\n          100000.0\n        ],\n        \"semantic_type\": \"\",\n        \"description\": \"\"\n      }\n    },\n    {\n      \"column\": \"Interest_Rate\",\n      \"properties\": {\n        \"dtype\": \"number\",\n        \"std\": 35090.285071687635,\n        \"min\": 1.0,\n        \"max\": 100000.0,\n        \"num_unique_values\": 8,\n        \"samples\": [\n          72.46604,\n          13.0,\n          100000.0\n        ],\n        \"semantic_type\": \"\",\n        \"description\": \"\"\n      }\n    },\n    {\n      \"column\": \"Delay_from_due_date\",\n      \"properties\": {\n        \"dtype\": \"number\",\n        \"std\": 35347.57054259866,\n        \"min\": -5.0,\n        \"max\": 100000.0,\n        \"num_unique_values\": 8,\n        \"samples\": [\n          21.06878,\n          18.0,\n          100000.0\n        ],\n        \"semantic_type\": \"\",\n        \"description\": \"\"\n      }\n    },\n    {\n      \"column\": \"Num_Credit_Inquiries\",\n      \"properties\": {\n        \"dtype\": \"number\",\n        \"std\": 34529.0265942048,\n        \"min\": 0.0,\n        \"max\": 98035.0,\n        \"num_unique_values\": 8,\n        \"samples\": [\n          27.75425103279441,\n          6.0,\n          98035.0\n        ],\n        \"semantic_type\": \"\",\n        \"description\": \"\"\n      }\n    },\n    {\n      \"column\": \"Credit_Utilization_Ratio\",\n      \"properties\": {\n        \"dtype\": \"number\",\n        \"std\": 35345.02488629802,\n        \"min\": 5.116875070147291,\n        \"max\": 100000.0,\n        \"num_unique_values\": 8,\n        \"samples\": [\n          32.2851725189402,\n          32.30578367,\n          100000.0\n        ],\n        \"semantic_type\": \"\",\n        \"description\": \"\"\n      }\n    },\n    {\n      \"column\": \"Total_EMI_per_month\",\n      \"properties\": {\n        \"dtype\": \"number\",\n        \"std\": 41793.58784756242,\n        \"min\": 0.0,\n        \"max\": 100000.0,\n        \"num_unique_values\": 8,\n        \"samples\": [\n          1403.1182166160252,\n          69.2494733,\n          100000.0\n        ],\n        \"semantic_type\": \"\",\n        \"description\": \"\"\n      }\n    },\n    {\n      \"column\": \"Unnamed: 27\",\n      \"properties\": {\n        \"dtype\": \"number\",\n        \"std\": null,\n        \"min\": 0.0,\n        \"max\": 0.0,\n        \"num_unique_values\": 1,\n        \"samples\": [\n          0.0\n        ],\n        \"semantic_type\": \"\",\n        \"description\": \"\"\n      }\n    },\n    {\n      \"column\": \"Unnamed: 28\",\n      \"properties\": {\n        \"dtype\": \"number\",\n        \"std\": null,\n        \"min\": 0.0,\n        \"max\": 0.0,\n        \"num_unique_values\": 1,\n        \"samples\": [\n          0.0\n        ],\n        \"semantic_type\": \"\",\n        \"description\": \"\"\n      }\n    }\n  ]\n}",
              "type": "dataframe"
            },
            "text/html": [
              "\n",
              "  <div id=\"df-959de621-7abe-45f7-95c8-f11503bd79a4\" class=\"colab-df-container\">\n",
              "    <div>\n",
              "<style scoped>\n",
              "    .dataframe tbody tr th:only-of-type {\n",
              "        vertical-align: middle;\n",
              "    }\n",
              "\n",
              "    .dataframe tbody tr th {\n",
              "        vertical-align: top;\n",
              "    }\n",
              "\n",
              "    .dataframe thead th {\n",
              "        text-align: right;\n",
              "    }\n",
              "</style>\n",
              "<table border=\"1\" class=\"dataframe\">\n",
              "  <thead>\n",
              "    <tr style=\"text-align: right;\">\n",
              "      <th></th>\n",
              "      <th>Monthly_Inhand_Salary</th>\n",
              "      <th>Num_Bank_Accounts</th>\n",
              "      <th>Num_Credit_Card</th>\n",
              "      <th>Interest_Rate</th>\n",
              "      <th>Delay_from_due_date</th>\n",
              "      <th>Num_Credit_Inquiries</th>\n",
              "      <th>Credit_Utilization_Ratio</th>\n",
              "      <th>Total_EMI_per_month</th>\n",
              "      <th>Unnamed: 27</th>\n",
              "      <th>Unnamed: 28</th>\n",
              "    </tr>\n",
              "  </thead>\n",
              "  <tbody>\n",
              "    <tr>\n",
              "      <th>count</th>\n",
              "      <td>84998.000000</td>\n",
              "      <td>100000.000000</td>\n",
              "      <td>100000.00000</td>\n",
              "      <td>100000.000000</td>\n",
              "      <td>100000.000000</td>\n",
              "      <td>98035.000000</td>\n",
              "      <td>100000.000000</td>\n",
              "      <td>100000.000000</td>\n",
              "      <td>0.0</td>\n",
              "      <td>0.0</td>\n",
              "    </tr>\n",
              "    <tr>\n",
              "      <th>mean</th>\n",
              "      <td>4194.170850</td>\n",
              "      <td>17.091280</td>\n",
              "      <td>22.47443</td>\n",
              "      <td>72.466040</td>\n",
              "      <td>21.068780</td>\n",
              "      <td>27.754251</td>\n",
              "      <td>32.285173</td>\n",
              "      <td>1403.118217</td>\n",
              "      <td>NaN</td>\n",
              "      <td>NaN</td>\n",
              "    </tr>\n",
              "    <tr>\n",
              "      <th>std</th>\n",
              "      <td>3183.686167</td>\n",
              "      <td>117.404834</td>\n",
              "      <td>129.05741</td>\n",
              "      <td>466.422621</td>\n",
              "      <td>14.860104</td>\n",
              "      <td>193.177339</td>\n",
              "      <td>5.116875</td>\n",
              "      <td>8306.041270</td>\n",
              "      <td>NaN</td>\n",
              "      <td>NaN</td>\n",
              "    </tr>\n",
              "    <tr>\n",
              "      <th>min</th>\n",
              "      <td>303.645417</td>\n",
              "      <td>-1.000000</td>\n",
              "      <td>0.00000</td>\n",
              "      <td>1.000000</td>\n",
              "      <td>-5.000000</td>\n",
              "      <td>0.000000</td>\n",
              "      <td>20.000000</td>\n",
              "      <td>0.000000</td>\n",
              "      <td>NaN</td>\n",
              "      <td>NaN</td>\n",
              "    </tr>\n",
              "    <tr>\n",
              "      <th>25%</th>\n",
              "      <td>1625.568229</td>\n",
              "      <td>3.000000</td>\n",
              "      <td>4.00000</td>\n",
              "      <td>8.000000</td>\n",
              "      <td>10.000000</td>\n",
              "      <td>3.000000</td>\n",
              "      <td>28.052567</td>\n",
              "      <td>30.306660</td>\n",
              "      <td>NaN</td>\n",
              "      <td>NaN</td>\n",
              "    </tr>\n",
              "    <tr>\n",
              "      <th>50%</th>\n",
              "      <td>3093.745000</td>\n",
              "      <td>6.000000</td>\n",
              "      <td>5.00000</td>\n",
              "      <td>13.000000</td>\n",
              "      <td>18.000000</td>\n",
              "      <td>6.000000</td>\n",
              "      <td>32.305784</td>\n",
              "      <td>69.249473</td>\n",
              "      <td>NaN</td>\n",
              "      <td>NaN</td>\n",
              "    </tr>\n",
              "    <tr>\n",
              "      <th>75%</th>\n",
              "      <td>5957.448333</td>\n",
              "      <td>7.000000</td>\n",
              "      <td>7.00000</td>\n",
              "      <td>20.000000</td>\n",
              "      <td>28.000000</td>\n",
              "      <td>9.000000</td>\n",
              "      <td>36.496663</td>\n",
              "      <td>161.224249</td>\n",
              "      <td>NaN</td>\n",
              "      <td>NaN</td>\n",
              "    </tr>\n",
              "    <tr>\n",
              "      <th>max</th>\n",
              "      <td>15204.633330</td>\n",
              "      <td>1798.000000</td>\n",
              "      <td>1499.00000</td>\n",
              "      <td>5797.000000</td>\n",
              "      <td>67.000000</td>\n",
              "      <td>2597.000000</td>\n",
              "      <td>50.000000</td>\n",
              "      <td>82331.000000</td>\n",
              "      <td>NaN</td>\n",
              "      <td>NaN</td>\n",
              "    </tr>\n",
              "  </tbody>\n",
              "</table>\n",
              "</div>\n",
              "    <div class=\"colab-df-buttons\">\n",
              "\n",
              "  <div class=\"colab-df-container\">\n",
              "    <button class=\"colab-df-convert\" onclick=\"convertToInteractive('df-959de621-7abe-45f7-95c8-f11503bd79a4')\"\n",
              "            title=\"Convert this dataframe to an interactive table.\"\n",
              "            style=\"display:none;\">\n",
              "\n",
              "  <svg xmlns=\"http://www.w3.org/2000/svg\" height=\"24px\" viewBox=\"0 -960 960 960\">\n",
              "    <path d=\"M120-120v-720h720v720H120Zm60-500h600v-160H180v160Zm220 220h160v-160H400v160Zm0 220h160v-160H400v160ZM180-400h160v-160H180v160Zm440 0h160v-160H620v160ZM180-180h160v-160H180v160Zm440 0h160v-160H620v160Z\"/>\n",
              "  </svg>\n",
              "    </button>\n",
              "\n",
              "  <style>\n",
              "    .colab-df-container {\n",
              "      display:flex;\n",
              "      gap: 12px;\n",
              "    }\n",
              "\n",
              "    .colab-df-convert {\n",
              "      background-color: #E8F0FE;\n",
              "      border: none;\n",
              "      border-radius: 50%;\n",
              "      cursor: pointer;\n",
              "      display: none;\n",
              "      fill: #1967D2;\n",
              "      height: 32px;\n",
              "      padding: 0 0 0 0;\n",
              "      width: 32px;\n",
              "    }\n",
              "\n",
              "    .colab-df-convert:hover {\n",
              "      background-color: #E2EBFA;\n",
              "      box-shadow: 0px 1px 2px rgba(60, 64, 67, 0.3), 0px 1px 3px 1px rgba(60, 64, 67, 0.15);\n",
              "      fill: #174EA6;\n",
              "    }\n",
              "\n",
              "    .colab-df-buttons div {\n",
              "      margin-bottom: 4px;\n",
              "    }\n",
              "\n",
              "    [theme=dark] .colab-df-convert {\n",
              "      background-color: #3B4455;\n",
              "      fill: #D2E3FC;\n",
              "    }\n",
              "\n",
              "    [theme=dark] .colab-df-convert:hover {\n",
              "      background-color: #434B5C;\n",
              "      box-shadow: 0px 1px 3px 1px rgba(0, 0, 0, 0.15);\n",
              "      filter: drop-shadow(0px 1px 2px rgba(0, 0, 0, 0.3));\n",
              "      fill: #FFFFFF;\n",
              "    }\n",
              "  </style>\n",
              "\n",
              "    <script>\n",
              "      const buttonEl =\n",
              "        document.querySelector('#df-959de621-7abe-45f7-95c8-f11503bd79a4 button.colab-df-convert');\n",
              "      buttonEl.style.display =\n",
              "        google.colab.kernel.accessAllowed ? 'block' : 'none';\n",
              "\n",
              "      async function convertToInteractive(key) {\n",
              "        const element = document.querySelector('#df-959de621-7abe-45f7-95c8-f11503bd79a4');\n",
              "        const dataTable =\n",
              "          await google.colab.kernel.invokeFunction('convertToInteractive',\n",
              "                                                    [key], {});\n",
              "        if (!dataTable) return;\n",
              "\n",
              "        const docLinkHtml = 'Like what you see? Visit the ' +\n",
              "          '<a target=\"_blank\" href=https://colab.research.google.com/notebooks/data_table.ipynb>data table notebook</a>'\n",
              "          + ' to learn more about interactive tables.';\n",
              "        element.innerHTML = '';\n",
              "        dataTable['output_type'] = 'display_data';\n",
              "        await google.colab.output.renderOutput(dataTable, element);\n",
              "        const docLink = document.createElement('div');\n",
              "        docLink.innerHTML = docLinkHtml;\n",
              "        element.appendChild(docLink);\n",
              "      }\n",
              "    </script>\n",
              "  </div>\n",
              "\n",
              "\n",
              "<div id=\"df-8133c9aa-b1c7-4098-b2b2-327514a01b13\">\n",
              "  <button class=\"colab-df-quickchart\" onclick=\"quickchart('df-8133c9aa-b1c7-4098-b2b2-327514a01b13')\"\n",
              "            title=\"Suggest charts\"\n",
              "            style=\"display:none;\">\n",
              "\n",
              "<svg xmlns=\"http://www.w3.org/2000/svg\" height=\"24px\"viewBox=\"0 0 24 24\"\n",
              "     width=\"24px\">\n",
              "    <g>\n",
              "        <path d=\"M19 3H5c-1.1 0-2 .9-2 2v14c0 1.1.9 2 2 2h14c1.1 0 2-.9 2-2V5c0-1.1-.9-2-2-2zM9 17H7v-7h2v7zm4 0h-2V7h2v10zm4 0h-2v-4h2v4z\"/>\n",
              "    </g>\n",
              "</svg>\n",
              "  </button>\n",
              "\n",
              "<style>\n",
              "  .colab-df-quickchart {\n",
              "      --bg-color: #E8F0FE;\n",
              "      --fill-color: #1967D2;\n",
              "      --hover-bg-color: #E2EBFA;\n",
              "      --hover-fill-color: #174EA6;\n",
              "      --disabled-fill-color: #AAA;\n",
              "      --disabled-bg-color: #DDD;\n",
              "  }\n",
              "\n",
              "  [theme=dark] .colab-df-quickchart {\n",
              "      --bg-color: #3B4455;\n",
              "      --fill-color: #D2E3FC;\n",
              "      --hover-bg-color: #434B5C;\n",
              "      --hover-fill-color: #FFFFFF;\n",
              "      --disabled-bg-color: #3B4455;\n",
              "      --disabled-fill-color: #666;\n",
              "  }\n",
              "\n",
              "  .colab-df-quickchart {\n",
              "    background-color: var(--bg-color);\n",
              "    border: none;\n",
              "    border-radius: 50%;\n",
              "    cursor: pointer;\n",
              "    display: none;\n",
              "    fill: var(--fill-color);\n",
              "    height: 32px;\n",
              "    padding: 0;\n",
              "    width: 32px;\n",
              "  }\n",
              "\n",
              "  .colab-df-quickchart:hover {\n",
              "    background-color: var(--hover-bg-color);\n",
              "    box-shadow: 0 1px 2px rgba(60, 64, 67, 0.3), 0 1px 3px 1px rgba(60, 64, 67, 0.15);\n",
              "    fill: var(--button-hover-fill-color);\n",
              "  }\n",
              "\n",
              "  .colab-df-quickchart-complete:disabled,\n",
              "  .colab-df-quickchart-complete:disabled:hover {\n",
              "    background-color: var(--disabled-bg-color);\n",
              "    fill: var(--disabled-fill-color);\n",
              "    box-shadow: none;\n",
              "  }\n",
              "\n",
              "  .colab-df-spinner {\n",
              "    border: 2px solid var(--fill-color);\n",
              "    border-color: transparent;\n",
              "    border-bottom-color: var(--fill-color);\n",
              "    animation:\n",
              "      spin 1s steps(1) infinite;\n",
              "  }\n",
              "\n",
              "  @keyframes spin {\n",
              "    0% {\n",
              "      border-color: transparent;\n",
              "      border-bottom-color: var(--fill-color);\n",
              "      border-left-color: var(--fill-color);\n",
              "    }\n",
              "    20% {\n",
              "      border-color: transparent;\n",
              "      border-left-color: var(--fill-color);\n",
              "      border-top-color: var(--fill-color);\n",
              "    }\n",
              "    30% {\n",
              "      border-color: transparent;\n",
              "      border-left-color: var(--fill-color);\n",
              "      border-top-color: var(--fill-color);\n",
              "      border-right-color: var(--fill-color);\n",
              "    }\n",
              "    40% {\n",
              "      border-color: transparent;\n",
              "      border-right-color: var(--fill-color);\n",
              "      border-top-color: var(--fill-color);\n",
              "    }\n",
              "    60% {\n",
              "      border-color: transparent;\n",
              "      border-right-color: var(--fill-color);\n",
              "    }\n",
              "    80% {\n",
              "      border-color: transparent;\n",
              "      border-right-color: var(--fill-color);\n",
              "      border-bottom-color: var(--fill-color);\n",
              "    }\n",
              "    90% {\n",
              "      border-color: transparent;\n",
              "      border-bottom-color: var(--fill-color);\n",
              "    }\n",
              "  }\n",
              "</style>\n",
              "\n",
              "  <script>\n",
              "    async function quickchart(key) {\n",
              "      const quickchartButtonEl =\n",
              "        document.querySelector('#' + key + ' button');\n",
              "      quickchartButtonEl.disabled = true;  // To prevent multiple clicks.\n",
              "      quickchartButtonEl.classList.add('colab-df-spinner');\n",
              "      try {\n",
              "        const charts = await google.colab.kernel.invokeFunction(\n",
              "            'suggestCharts', [key], {});\n",
              "      } catch (error) {\n",
              "        console.error('Error during call to suggestCharts:', error);\n",
              "      }\n",
              "      quickchartButtonEl.classList.remove('colab-df-spinner');\n",
              "      quickchartButtonEl.classList.add('colab-df-quickchart-complete');\n",
              "    }\n",
              "    (() => {\n",
              "      let quickchartButtonEl =\n",
              "        document.querySelector('#df-8133c9aa-b1c7-4098-b2b2-327514a01b13 button');\n",
              "      quickchartButtonEl.style.display =\n",
              "        google.colab.kernel.accessAllowed ? 'block' : 'none';\n",
              "    })();\n",
              "  </script>\n",
              "</div>\n",
              "\n",
              "    </div>\n",
              "  </div>\n"
            ],
            "text/plain": [
              "       Monthly_Inhand_Salary  Num_Bank_Accounts  Num_Credit_Card  \\\n",
              "count           84998.000000      100000.000000     100000.00000   \n",
              "mean             4194.170850          17.091280         22.47443   \n",
              "std              3183.686167         117.404834        129.05741   \n",
              "min               303.645417          -1.000000          0.00000   \n",
              "25%              1625.568229           3.000000          4.00000   \n",
              "50%              3093.745000           6.000000          5.00000   \n",
              "75%              5957.448333           7.000000          7.00000   \n",
              "max             15204.633330        1798.000000       1499.00000   \n",
              "\n",
              "       Interest_Rate  Delay_from_due_date  Num_Credit_Inquiries  \\\n",
              "count  100000.000000        100000.000000          98035.000000   \n",
              "mean       72.466040            21.068780             27.754251   \n",
              "std       466.422621            14.860104            193.177339   \n",
              "min         1.000000            -5.000000              0.000000   \n",
              "25%         8.000000            10.000000              3.000000   \n",
              "50%        13.000000            18.000000              6.000000   \n",
              "75%        20.000000            28.000000              9.000000   \n",
              "max      5797.000000            67.000000           2597.000000   \n",
              "\n",
              "       Credit_Utilization_Ratio  Total_EMI_per_month  Unnamed: 27  Unnamed: 28  \n",
              "count             100000.000000        100000.000000          0.0          0.0  \n",
              "mean                  32.285173          1403.118217          NaN          NaN  \n",
              "std                    5.116875          8306.041270          NaN          NaN  \n",
              "min                   20.000000             0.000000          NaN          NaN  \n",
              "25%                   28.052567            30.306660          NaN          NaN  \n",
              "50%                   32.305784            69.249473          NaN          NaN  \n",
              "75%                   36.496663           161.224249          NaN          NaN  \n",
              "max                   50.000000         82331.000000          NaN          NaN  "
            ]
          },
          "execution_count": 86,
          "metadata": {},
          "output_type": "execute_result"
        }
      ],
      "source": [
        "df.describe()"
      ]
    },
    {
      "cell_type": "code",
      "execution_count": null,
      "metadata": {
        "colab": {
          "base_uri": "https://localhost:8080/"
        },
        "id": "hwOepG4wtrVS",
        "outputId": "66082c68-fa72-48cc-a886-cff4258b7df8"
      },
      "outputs": [
        {
          "name": "stdout",
          "output_type": "stream",
          "text": [
            "<class 'pandas.core.frame.DataFrame'>\n",
            "RangeIndex: 100000 entries, 0 to 99999\n",
            "Data columns (total 30 columns):\n",
            " #   Column                    Non-Null Count   Dtype  \n",
            "---  ------                    --------------   -----  \n",
            " 0   ID                        100000 non-null  object \n",
            " 1   Customer_ID               100000 non-null  object \n",
            " 2   Month                     100000 non-null  object \n",
            " 3   Name                      90015 non-null   object \n",
            " 4   Age                       100000 non-null  object \n",
            " 5   SSN                       100000 non-null  object \n",
            " 6   Occupation                100000 non-null  object \n",
            " 7   Annual_Income             100000 non-null  object \n",
            " 8   Monthly_Inhand_Salary     84998 non-null   float64\n",
            " 9   Num_Bank_Accounts         100000 non-null  int64  \n",
            " 10  Num_Credit_Card           100000 non-null  int64  \n",
            " 11  Interest_Rate             100000 non-null  int64  \n",
            " 12  Num_of_Loan               100000 non-null  object \n",
            " 13  Type_of_Loan              88592 non-null   object \n",
            " 14  Delay_from_due_date       100000 non-null  int64  \n",
            " 15  Num_of_Delayed_Payment    92998 non-null   object \n",
            " 16  Changed_Credit_Limit      100000 non-null  object \n",
            " 17  Num_Credit_Inquiries      98035 non-null   float64\n",
            " 18  Credit_Mix                100000 non-null  object \n",
            " 19  Outstanding_Debt          100000 non-null  object \n",
            " 20  Credit_Utilization_Ratio  100000 non-null  float64\n",
            " 21  Credit_History_Age        90970 non-null   object \n",
            " 22  Payment_of_Min_Amount     100000 non-null  object \n",
            " 23  Total_EMI_per_month       100000 non-null  float64\n",
            " 24  Amount_invested_monthly   95521 non-null   object \n",
            " 25  Payment_Behaviour         100000 non-null  object \n",
            " 26  Monthly_Balance           98800 non-null   object \n",
            " 27  Unnamed: 27               0 non-null       float64\n",
            " 28  Unnamed: 28               0 non-null       float64\n",
            " 29  Unnamed: 29               1 non-null       object \n",
            "dtypes: float64(6), int64(4), object(20)\n",
            "memory usage: 22.9+ MB\n"
          ]
        }
      ],
      "source": [
        "df.info()"
      ]
    },
    {
      "cell_type": "code",
      "execution_count": null,
      "metadata": {
        "id": "z111QXrii5l_"
      },
      "outputs": [],
      "source": [
        "# The Null values are too many. We will keep them as it is now and create a new\n",
        "# dataframe based on customers. If there are any Null values orr Duplicated values there,\n",
        "# They will be then removed"
      ]
    },
    {
      "cell_type": "markdown",
      "metadata": {
        "id": "HlgbdzGATMWv"
      },
      "source": [
        "## Feature Engineering and Data Cleaning"
      ]
    },
    {
      "cell_type": "code",
      "execution_count": null,
      "metadata": {
        "id": "ipuspX77PxrG"
      },
      "outputs": [],
      "source": [
        "# Extracting Months and Year Columns for later use\n",
        "\n",
        "df['C_History_Years'] = df['Credit_History_Age'].str.extract(r'(\\d+) Years').fillna(0).astype(int)\n",
        "df['C_History_Months'] = df['Credit_History_Age'].str.extract(r'(\\d+) Months').fillna(0).astype(int)"
      ]
    },
    {
      "cell_type": "code",
      "execution_count": null,
      "metadata": {
        "id": "oXR_OwcWKjYH"
      },
      "outputs": [],
      "source": [
        "# Dropping Useless Columns\n",
        "\n",
        "df.drop(['ID','Name','Credit_History_Age'], axis = 1, inplace= True)"
      ]
    },
    {
      "cell_type": "code",
      "execution_count": null,
      "metadata": {
        "collapsed": true,
        "id": "3u5sl6RU_089"
      },
      "outputs": [],
      "source": [
        "# Correcting Datatypes\n",
        "\n",
        "Columns = ['Age','Annual_Income','Num_of_Loan','Num_of_Delayed_Payment','Changed_Credit_Limit','Outstanding_Debt','Amount_invested_monthly']\n",
        "\n",
        "for c in Columns:\n",
        "  df[c] = df[c].str.replace('_', '')\n",
        "  df[c] = df[c].str.replace(' ', '')\n",
        "  df[c] = pd.to_numeric(df[c])\n",
        "\n",
        "df['Monthly_Balance'] = pd.to_numeric(df['Monthly_Balance'], errors='coerce')"
      ]
    },
    {
      "cell_type": "code",
      "execution_count": null,
      "metadata": {
        "id": "auA_D5y8-4zz"
      },
      "outputs": [],
      "source": [
        "# Correcting the erroneos valus in the columns\n",
        "\n",
        "\n",
        "# Replacing faulty values with \"Unknown\"\n",
        "df['Credit_Mix'] = df['Credit_Mix'].replace('_', 'Unknown')\n",
        "\n",
        "\n",
        "# Correcting the Negative Values\n",
        "for i in ['Age','Annual_Income','Monthly_Inhand_Salary','Num_Bank_Accounts',\n",
        "          'Num_Credit_Card','Interest_Rate','Num_of_Loan','Delay_from_due_date',\n",
        "          'Num_of_Delayed_Payment','Changed_Credit_Limit','Num_Credit_Inquiries',\n",
        "          'Outstanding_Debt','Credit_Utilization_Ratio','Total_EMI_per_month',\n",
        "          'Amount_invested_monthly','Monthly_Balance']:\n",
        "  df[i] = df[i].apply(lambda x: -x if x < 0 else x)\n",
        "\n",
        "\n",
        "# Correcting the unnatuaral high values\n",
        "\n",
        "col = 'Age'\n",
        "df[col] = df[col].clip(upper=100)\n",
        "\n",
        "col = 'Num_Bank_Accounts'\n",
        "df[col] = df[col].clip(upper=15)\n",
        "\n",
        "col = 'Num_Credit_Card'\n",
        "df[col] = df[col].clip(upper=30)\n",
        "\n",
        "col = 'Interest_Rate'\n",
        "df[col] = df[col].apply(lambda x: x / 100 if x > 99 else x)\n",
        "\n",
        "col = 'Num_of_Loan'\n",
        "df[col] = df[col].clip(upper=200)\n",
        "\n",
        "col = 'Num_of_Delayed_Payment'  # Possible if there are multiple small small credits with low EMIs\n",
        "\n",
        "col = 'Num_Credit_Inquiries'\n",
        "df[col] = df[col].clip(upper=150)\n",
        "\n",
        "col = 'Total_EMI_per_month '    # Possible as the max is < 10 times of mean. Can happen due to multiple loans"
      ]
    },
    {
      "cell_type": "code",
      "execution_count": null,
      "metadata": {
        "id": "aCV5Et5IFF4I"
      },
      "outputs": [],
      "source": [
        "# Checking the values\n",
        "\n",
        "df.describe()"
      ]
    },
    {
      "cell_type": "markdown",
      "metadata": {
        "id": "f1mG8UXLSQiA"
      },
      "source": [
        "## Customer dataset"
      ]
    },
    {
      "cell_type": "code",
      "execution_count": null,
      "metadata": {
        "id": "u5-Zx5Jc2BPk"
      },
      "outputs": [],
      "source": [
        "# Creating a customer centric dataframe using customer based aggregation\n",
        "\n",
        "cust = df.groupby('Customer_ID').agg({\n",
        "    'Annual_Income': lambda x: x.mode().iloc[0],\n",
        "    'Age': lambda x: x.mode().iloc[0],\n",
        "    'Occupation': lambda x: x.mode().iloc[0],\n",
        "    'Monthly_Inhand_Salary': lambda x: x.mode().iloc[0],\n",
        "    'Num_Bank_Accounts': lambda x: x.mode().iloc[0],\n",
        "    'Num_Credit_Card': lambda x: x.mode().iloc[0],\n",
        "    'Interest_Rate': 'mean',\n",
        "    'Num_of_Loan': lambda x: x.mode().iloc[0],\n",
        "    # 'Type_of_Loan': ###,\n",
        "    'Delay_from_due_date': 'mean',\n",
        "    'Num_of_Delayed_Payment': 'mean',\n",
        "    'Changed_Credit_Limit': 'mean',\n",
        "    'Num_Credit_Inquiries': lambda x: x.mode().iloc[0],\n",
        "    'Credit_Mix': lambda x: x.mode().iloc[0],\n",
        "    'Outstanding_Debt': lambda x: x.mode().iloc[0],\n",
        "    'Credit_Utilization_Ratio': 'mean',\n",
        "    'C_History_Years': lambda x: x.mode().iloc[0],\n",
        "    'Payment_of_Min_Amount': lambda x: x.mode().iloc[0],\n",
        "    'Total_EMI_per_month': lambda x: x.mode().iloc[0],\n",
        "    'Amount_invested_monthly': ['sum', 'mean'],\n",
        "    # 'Payment_Behaviour':,\n",
        "    'Monthly_Balance': 'mean'\n",
        "    })\n",
        "\n",
        "cust.head(5)"
      ]
    },
    {
      "cell_type": "code",
      "execution_count": null,
      "metadata": {
        "id": "g0uTQFNRwYah"
      },
      "outputs": [],
      "source": [
        "# Creating a workable copy\n",
        "\n",
        "c = cust.copy()\n",
        "c.shape"
      ]
    },
    {
      "cell_type": "code",
      "execution_count": null,
      "metadata": {
        "id": "qFBWO7mq-pKI"
      },
      "outputs": [],
      "source": [
        "# Renaming Columns\n",
        "\n",
        "c.columns = ['Annual_Income',\n",
        "'Age',\n",
        "'Occupation',\n",
        "'Monthly_Inhand_Salary',\n",
        "'Num_Bank_Accounts',\n",
        "'Num_Credit_Card',\n",
        "'Avg_Interest_Rate',\n",
        "'Num_of_Loan',\n",
        "'Avg_Delay_from_due_date',\n",
        "'Avg_Num_of_Delayed_Payment',\n",
        "'Avg_Changed_Credit_Limit',\n",
        "'Num_Credit_Inquiries',\n",
        "'Credit_Mix',\n",
        "'Outstanding_Debt',\n",
        "'Avg_Credit_Utilization_Ratio',\n",
        "'C_History_Years',\n",
        "'Payment_of_Min_Amount',\n",
        "'Total_EMI_per_month',\n",
        "'Total_Amount_invested_monthly',\n",
        "'Avg_Amount_invested_monthly',\n",
        "'Avg_Monthly_Balance'\n",
        "]\n",
        "c.describe()"
      ]
    },
    {
      "cell_type": "code",
      "execution_count": null,
      "metadata": {
        "id": "NR-QnBazcUXM"
      },
      "outputs": [],
      "source": [
        "# Creating Bins for Numerical Values for easy use\n",
        "\n",
        "bins = [0, 3000, 6000, 9000, 12000, 15000, np.inf]\n",
        "c['Salary_Bin'] = pd.cut(c['Monthly_Inhand_Salary'], bins=bins, labels=['0-2999', '3000-5999', '6000-8999', '9000-11999', '12000-14999', '15000+'])\n",
        "\n",
        "bins = [0, 10, 20, 30, np.inf]\n",
        "c['History_Bin'] = pd.cut(c['C_History_Years'], bins=bins, labels=['0-10', '10-20', '20-30', '30+'])\n",
        "\n",
        "bins = [0, 1000, 2000, 3000, 4000, 5000]\n",
        "c['Debt_Bin'] = pd.cut(c['Outstanding_Debt'], bins=bins, labels=['0-1000', '1000-2000', '2000-3000', '3000-4000', '4000-5000'])\n",
        "\n",
        "bins = [0, 200, 400, 600, 800, 1000, np.inf]\n",
        "c['Tardiness_Bin'] = pd.cut(c['Avg_Num_of_Delayed_Payment'], bins=bins, labels=['0-200 Days', '200-400 Days', '400-600 Days', '600-800 Days', '800-1000 Days', '1000+ Days'])\n",
        "\n",
        "bins = [0, 20, 40, 60, 80, np.inf]\n",
        "c['Age_Bin'] = pd.cut(c['Outstanding_Debt'], bins=bins, labels=['Below 20 Years', '20-40 Years', '40-60 Years', '60-80 Years', '80 Years and Above'])"
      ]
    },
    {
      "cell_type": "code",
      "execution_count": null,
      "metadata": {
        "id": "WeuZDTORn3p0"
      },
      "outputs": [],
      "source": [
        "# Creating a Numerical Column For Credit mix for ease of use\n",
        "\n",
        "mapping = {'Standard': 2, 'Good': 3, 'Bad': 1, 'Unknown': 1}\n",
        "c['Credit_Mix_Rating'] = c['Credit_Mix'].map(mapping)"
      ]
    },
    {
      "cell_type": "code",
      "execution_count": null,
      "metadata": {
        "id": "EmAUoXivH2k2"
      },
      "outputs": [],
      "source": [
        "# dropping Faulty 'Occupation' from the rows\n",
        "\n",
        "c = c[c['Occupation'] != '_______']"
      ]
    },
    {
      "cell_type": "code",
      "execution_count": null,
      "metadata": {
        "id": "V5dV4I0j_DxQ"
      },
      "outputs": [],
      "source": [
        "# Checking for Null values\n",
        "\n",
        "((c.isnull().sum()/len(df))*100).sort_values(ascending=False)"
      ]
    },
    {
      "cell_type": "code",
      "execution_count": null,
      "metadata": {
        "id": "T3FpD5RKY832"
      },
      "outputs": [],
      "source": [
        "# Dropping Null Values\n",
        "\n",
        "c = c.dropna()"
      ]
    },
    {
      "cell_type": "code",
      "execution_count": null,
      "metadata": {
        "colab": {
          "base_uri": "https://localhost:8080/"
        },
        "id": "Q-tzc_dhi22N",
        "outputId": "2be23b86-55d9-4609-d47b-e7cb34396989"
      },
      "outputs": [
        {
          "data": {
            "text/plain": [
              "0"
            ]
          },
          "execution_count": 88,
          "metadata": {},
          "output_type": "execute_result"
        }
      ],
      "source": [
        "# Checking for duplicates\n",
        "\n",
        "c.duplicated().sum()"
      ]
    },
    {
      "cell_type": "markdown",
      "metadata": {
        "id": "u3dwG-PUUGlR"
      },
      "source": [
        "## Data Visualisation"
      ]
    },
    {
      "cell_type": "code",
      "execution_count": null,
      "metadata": {
        "id": "6C-djuTXmfMd"
      },
      "outputs": [],
      "source": [
        "# Numerical Correlations\n",
        "\n",
        "plt.figure(figsize=(20, 20))\n",
        "n_c = c.select_dtypes(include=np.number)\n",
        "c_matrix = n_c.corr()\n",
        "sns.heatmap(c_matrix, annot=True, cmap='coolwarm')\n",
        "plt.show()"
      ]
    },
    {
      "cell_type": "code",
      "execution_count": null,
      "metadata": {
        "id": "5G6988RYSCEq"
      },
      "outputs": [],
      "source": [
        "\n",
        "# Age Distribution\n",
        "\n",
        "sns.kdeplot(data = c['Age'], shade=True)\n",
        "plt.xlabel('Age')\n",
        "plt.ylabel('Density')\n",
        "plt.title('Age Distribution of Customers')\n",
        "plt.show()"
      ]
    },
    {
      "cell_type": "code",
      "execution_count": null,
      "metadata": {
        "id": "LzqY-RlPT9v_"
      },
      "outputs": [],
      "source": [
        "# Monthly salary distributions\n",
        "\n",
        "sns.kdeplot(data = c['Monthly_Inhand_Salary'], shade=True)\n",
        "plt.xlabel('Monthly Inhand Salary')\n",
        "plt.ylabel('Density')\n",
        "plt.title('Monthly Inhand Salary Distribution of Customers')\n",
        "plt.show()"
      ]
    },
    {
      "cell_type": "code",
      "execution_count": null,
      "metadata": {
        "id": "O7MLwMUfUbUc"
      },
      "outputs": [],
      "source": [
        "# Bank accounts per customer distribution\n",
        "\n",
        "sns.histplot(data=c, x='Num_Bank_Accounts', kde=False, color='red')\n",
        "plt.xlabel('No. of Bank Accounts')\n",
        "plt.ylabel('Count of Bank Accounts')\n",
        "plt.title('No. of bank Accounts by a customer')\n",
        "plt.grid(True)\n",
        "plt.show()"
      ]
    },
    {
      "cell_type": "code",
      "execution_count": null,
      "metadata": {
        "id": "lLB5xd0VJu6U"
      },
      "outputs": [],
      "source": [
        "\n",
        "# Loan Distributions across customers\n",
        "\n",
        "sns.histplot(data=c, x='Num_of_Loan', kde=False, color='green')\n",
        "plt.xlabel('No. of loans')\n",
        "plt.ylabel('Count of loans')\n",
        "plt.title('No. of loans by a customer')\n",
        "plt.grid(True)\n",
        "plt.show()"
      ]
    },
    {
      "cell_type": "code",
      "execution_count": null,
      "metadata": {
        "id": "Owp44GrvVVnn"
      },
      "outputs": [],
      "source": [
        "# Interest Rates Distributions\n",
        "\n",
        "sns.kdeplot(data = c['Avg_Interest_Rate'], shade=True)\n",
        "plt.xlabel('Interest Rates')\n",
        "plt.ylabel('Density')\n",
        "plt.title('Interest Rates Distribution of Customers')\n",
        "plt.show()"
      ]
    },
    {
      "cell_type": "code",
      "execution_count": null,
      "metadata": {
        "id": "96UO-WylYZh1"
      },
      "outputs": [],
      "source": [
        "# Occupation distribution of Customers\n",
        "\n",
        "print(c['Occupation'].value_counts().nlargest(50))"
      ]
    },
    {
      "cell_type": "code",
      "execution_count": null,
      "metadata": {
        "id": "wR5IvkpTbFVa"
      },
      "outputs": [],
      "source": [
        "# Relationship of Occupations and no. of Bank Accounts\n",
        "\n",
        "crosstab = pd.crosstab(c['Occupation'], c['Num_Bank_Accounts'])\n",
        "sns.heatmap(crosstab, annot=True, fmt='d', cmap='YlGnBu')\n",
        "plt.xlabel('Number of Bank Accounts')\n",
        "plt.ylabel('Occupation')\n",
        "plt.title('Occupation vs. Number of Bank Accounts')\n",
        "plt.show()"
      ]
    },
    {
      "cell_type": "code",
      "execution_count": null,
      "metadata": {
        "id": "nRHfvqnnNXPQ"
      },
      "outputs": [],
      "source": [
        "# Relationship of Occupations and earned\n",
        "\n",
        "crosstab = pd.crosstab(c['Occupation'], c['Salary_Bin'], normalize='index')\n",
        "sns.heatmap(crosstab, annot=True, fmt='.2%', cmap='YlGnBu')\n",
        "plt.xlabel('Salary slab')\n",
        "plt.ylabel('Occupation')\n",
        "plt.title('Occupation vs. Salaries of the Customers')\n",
        "plt.show()"
      ]
    },
    {
      "cell_type": "code",
      "execution_count": null,
      "metadata": {
        "id": "04ZR41M6e3ab"
      },
      "outputs": [],
      "source": [
        "# Relationship of Customer's age and their Paying of EMIs on time\n",
        "\n",
        "crosstab = pd.crosstab(c['Age_Bin'], c['Tardiness_Bin'], normalize='index')\n",
        "sns.heatmap(crosstab, annot=True, fmt='.2%', cmap='YlGnBu')\n",
        "plt.xlabel('Extra Time taken To return Loan')\n",
        "plt.ylabel('Age Range')\n",
        "plt.title('Customer Age vs. Tardiness Behaviour of Customers')\n",
        "plt.show()"
      ]
    },
    {
      "cell_type": "code",
      "execution_count": null,
      "metadata": {
        "id": "yCDLSvy6f2zH"
      },
      "outputs": [],
      "source": [
        "# Relationship between Salaries and Debt of Customers\n",
        "\n",
        "crosstab = pd.crosstab(c['Salary_Bin'], c['Debt_Bin'], normalize='index')\n",
        "sns.heatmap(crosstab, annot=True, fmt='.2%', cmap='YlGnBu')\n",
        "plt.xlabel('Debt')\n",
        "plt.ylabel('Salaries Range')\n",
        "plt.title('Salary vs. Debt Behaviour of Customers')\n",
        "plt.show()"
      ]
    },
    {
      "cell_type": "code",
      "execution_count": null,
      "metadata": {
        "id": "k09JijBnRSQJ"
      },
      "outputs": [],
      "source": [
        "# Relationship of Customer History and their Amount of Debts\n",
        "\n",
        "crosstab = pd.crosstab(c['History_Bin'], c['Debt_Bin'], normalize='index')\n",
        "sns.heatmap(crosstab, annot=True, fmt='.2%', cmap='YlGnBu')\n",
        "plt.xlabel('Debt')\n",
        "plt.ylabel('Customer History with Bank (years)')\n",
        "plt.title('Customer History vs. Debt Behaviour of Customers')\n",
        "plt.show()"
      ]
    },
    {
      "cell_type": "code",
      "execution_count": null,
      "metadata": {
        "id": "lzDIqqsqRm4R"
      },
      "outputs": [],
      "source": [
        "# How does Customer Credit mixture change with their time with the bank\n",
        "\n",
        "crosstab = pd.crosstab(c['History_Bin'], c['Credit_Mix'], normalize='index')\n",
        "sns.heatmap(crosstab, annot=True, fmt='.2%', cmap='YlGnBu')\n",
        "plt.xlabel('Credit Mix')\n",
        "plt.ylabel('Customer History with Bank (years)')\n",
        "plt.title('Customer History vs. Credit Mixture')\n",
        "plt.show()"
      ]
    },
    {
      "cell_type": "code",
      "execution_count": null,
      "metadata": {
        "id": "wtAL1krbR7en"
      },
      "outputs": [],
      "source": [
        "c['Credit_Mix'].value_counts()"
      ]
    },
    {
      "cell_type": "code",
      "execution_count": null,
      "metadata": {
        "id": "2Nkm3EiUJqF1"
      },
      "outputs": [],
      "source": [
        "def pearson(x,y,df=data):\n",
        "  print()\n",
        "  print(f\"Pearson Correlation Coefficient between {x} and {y}:\")\n",
        "  print(df[x].corr(df[y],method='pearson'))\n",
        "  return \"\"\n",
        "\n",
        "\n",
        "def spearman(x,y,df=data):\n",
        "  print()\n",
        "  print(f\"Spearman Correlation Coefficient between {x} and {y}:\")\n",
        "  print(df[x].corr(df[y],method='spearman'))\n",
        "  return \"\""
      ]
    },
    {
      "cell_type": "code",
      "execution_count": null,
      "metadata": {
        "id": "419xNsgILDg6"
      },
      "outputs": [],
      "source": [
        "# Checking Correlations\n",
        "\n",
        "# Salary and Investment\n",
        "spearman('Avg_Amount_invested_monthly','Monthly_Inhand_Salary',c)\n",
        "\n",
        "# Credit Utilisation and Outstanding Debt\n",
        "spearman('Avg_Credit_Utilization_Ratio','Outstanding_Debt',c)\n"
      ]
    },
    {
      "cell_type": "markdown",
      "metadata": {
        "id": "L_akK-WtjqAt"
      },
      "source": [
        "## Credit Number Calculations"
      ]
    },
    {
      "cell_type": "code",
      "execution_count": null,
      "metadata": {
        "id": "bYSXugW-j2eG"
      },
      "outputs": [],
      "source": [
        "# Scaling Formula for the Data for ease of use\n",
        "\n",
        "def scaled(c, df=cs):\n",
        "  min_val = df[c].min()\n",
        "  max_val = df[c].max()\n",
        "  df[c] = (df[c] - min_val) / (max_val - min_val) * 100"
      ]
    },
    {
      "cell_type": "code",
      "execution_count": null,
      "metadata": {
        "id": "yk2k25WUoSKq"
      },
      "outputs": [],
      "source": [
        "# Selecting only relevant columns from the Customer dataset (c)\n",
        "\n",
        "cs = c.copy()      # Creating a workable copy of the dataset - cs dataframe\n",
        "\n",
        "useful = ['Annual_Income','Monthly_Inhand_Salary','Num_of_Loan',\n",
        "          'Avg_Num_of_Delayed_Payment','Num_Credit_Inquiries',\n",
        "          'Credit_Mix_Rating','Outstanding_Debt','Avg_Credit_Utilization_Ratio',\n",
        "          'C_History_Years','Avg_Monthly_Balance' ]\n",
        "\n",
        "cs = cs[useful]\n",
        "\n",
        "# Scaling all columns of the 'cs' Datafetame\n",
        "\n",
        "for col in useful:\n",
        "    scaled(col, cs)\n",
        "\n",
        "print(c.shape)\n",
        "c.head(2)"
      ]
    },
    {
      "cell_type": "code",
      "execution_count": null,
      "metadata": {
        "id": "uQR07eqEtZYM"
      },
      "outputs": [],
      "source": [
        "# Creating the best possible approximation of the FICO Score (using weights given in myFICO.com)\n",
        "\n",
        "cs['FICO_Rating'] = 0.35 * (100 - cs['Avg_Num_of_Delayed_Payment']) + \\\n",
        "                    0.1 * (100 - cs['Num_Credit_Inquiries']) + \\\n",
        "                    0.1 * cs['Credit_Mix_Rating'] + \\\n",
        "                    0.3 * (100 - cs['Outstanding_Debt']) + \\\n",
        "                    0.15 * cs['C_History_Years']\n",
        "cs['FICO_Rating'] = ((cs['FICO_Rating'] / 100) * (850 - 300)) + 300\n",
        "cs.describe()"
      ]
    },
    {
      "cell_type": "markdown",
      "metadata": {
        "id": "oFFLDrVet2iK"
      },
      "source": [
        "Creating New Credit Scores using Linear Regression Models"
      ]
    },
    {
      "cell_type": "code",
      "execution_count": null,
      "metadata": {
        "id": "fn_IFGDSwFyE"
      },
      "outputs": [],
      "source": [
        "from sklearn.linear_model import LinearRegression\n",
        "from sklearn.metrics import mean_squared_error"
      ]
    },
    {
      "cell_type": "code",
      "execution_count": null,
      "metadata": {
        "id": "RAV0MgquOxAN"
      },
      "outputs": [],
      "source": [
        "# Rating categoriser\n",
        "\n",
        "def score_categ(x, df=cs):\n",
        "  x_c = x + '_category'\n",
        "  bins = [-np.inf, 580, 670, 740, 800, np.inf]\n",
        "  df[x_c] = pd.cut(df[x], bins=bins, labels=['Poor', 'Fair', 'Good', 'Very Good','Exceptional'])\n",
        "\n",
        "'''\n",
        "< 580 = Poor\n",
        "580-669 = Fair\n",
        "670-739 = Good\n",
        "740-799 = Very Good\n",
        "800+ = Exceptional\n",
        "\n",
        "Source - myFICO.com\n",
        "'''\n",
        "\n",
        "# Rating Accuray\n",
        "\n",
        "def rating_acc(x,y,df=cs):\n",
        "  x_a = x + '_accuracy'\n",
        "  df[x_a] = df[x] == df[y]\n",
        "  df[x_a] = df[x_a].astype(str).replace({'True': 'Match', 'False': 'Mismatch'})\n",
        "\n",
        "\n",
        "score_categ('FICO_Rating', cs)\n",
        "cs.head()"
      ]
    },
    {
      "cell_type": "markdown",
      "metadata": {
        "id": "Jnnzz-nDxa6N"
      },
      "source": [
        "Rating - 1 Not Considering the Loans in Credit calculations and treating them separately. Also taking the records monthwise.\n",
        "\n",
        "**Factors that affect the ratings**\n",
        "\n",
        "*   **Monthly_Inhand_Salary**: What the Customer is earning per month affects the ability to pay credit\n",
        "*   **Avg_Num_of_Delayed_Payment**: Tardiness shows how serious or capable the customer is in paying back\n",
        "*   **Num_Credit_Inquiries**: Higher no. of credit inquiries can give an understanding of the person's loan/ credit tendencies\n",
        "*   **Credit_Mix_Rating**: Good Credit mix can show that the person is not struggling and can buy different things at different stages of their lives\n",
        "*   **Outstanding_Debt**: Outstanding debt gives an idea about how much credit load the customer already has that can affect his credit paying back ability\n",
        "*   **Avg_Credit_Utilization_Ratio**: This ratio gives an idea about the desperation the customer has regarding finances\n",
        "*   **C_History_Years**: Longer History of credit gives an idea that the customer has experience in this field and has a good track record to still get a loan from the company\n"
      ]
    },
    {
      "cell_type": "code",
      "execution_count": null,
      "metadata": {
        "id": "749D-M0FtjIO"
      },
      "outputs": [],
      "source": [
        "# Picking Relevant Columns and doing Linear regression\n",
        "\n",
        "X = cs[['Monthly_Inhand_Salary',\n",
        "        'Avg_Num_of_Delayed_Payment',\n",
        "        'Num_Credit_Inquiries',\n",
        "        'Credit_Mix_Rating',\n",
        "        'Outstanding_Debt',\n",
        "        'Avg_Credit_Utilization_Ratio',\n",
        "        'C_History_Years']]\n",
        "\n",
        "y = cs['FICO_Rating']\n",
        "\n",
        "model = LinearRegression()\n",
        "model.fit(X, y)\n",
        "\n",
        "weights = model.coef_\n",
        "\n",
        "\n",
        "# Multiplying the Columns with Weights from Linear Regression to create new Ratings\n",
        "\n",
        "cs['r1'] = cs[['Monthly_Inhand_Salary',\n",
        "        'Avg_Num_of_Delayed_Payment',\n",
        "        'Num_Credit_Inquiries',\n",
        "        'Credit_Mix_Rating',\n",
        "        'Outstanding_Debt',\n",
        "        'Avg_Credit_Utilization_Ratio',\n",
        "        'C_History_Years']].mul(weights, axis=1).sum(axis=1)\n",
        "\n",
        "# Calculating and adding biases to the newly created Ratings\n",
        "\n",
        "bias = (cs['FICO_Rating'] - cs['r1']).mean()\n",
        "cs['r1'] = cs['r1'] + bias\n",
        "\n",
        "score_categ('r1', cs)\n",
        "rating_acc('r1_category','FICO_Rating_category', cs)"
      ]
    },
    {
      "cell_type": "code",
      "execution_count": null,
      "metadata": {
        "id": "oHsgttI2V677"
      },
      "outputs": [],
      "source": [
        "# Comparing Matches in Predictions with FiCO ratings\n",
        "\n",
        "print(cs['r1_category_accuracy'].value_counts())\n",
        "\n",
        "# Visualising the ratings\n",
        "\n",
        "sns.kdeplot(data = cs[['r1','FICO_Rating']], shade=True)\n",
        "plt.xlabel('Ratings')\n",
        "plt.ylabel('Density')\n",
        "plt.title('Ratings Comparison')\n",
        "plt.show()"
      ]
    },
    {
      "cell_type": "markdown",
      "metadata": {
        "id": "apQGsYTvxeXi"
      },
      "source": [
        "Rating - 2: Not considering the Tardiness or late Payments of the customers and only considering their financial status and credit behaviour\n",
        "\n",
        "**Factors that affect the ratings**\n",
        "\n",
        "*   **Annual_Income**: Income of the customer affects the loan repayment ability (annual income smmothen outs the monthly fluctuations)\n",
        "*   **Num_Credit_Inquiries**: Higher no. of credit inquiries can give an understanding of the person's loan/ credit tendencies\n",
        "*   **Credit_Mix_Rating**: Good Credit mix can show that the person is not struggling and can buy different things at different stages of their lives\n",
        "*   **Outstanding_Debt**: Outstanding debt gives an idea about how much credit load the customer already has that can affect his credit paying back ability\n",
        "*   **Avg_Credit_Utilization_Ratio**: This ratio gives an idea about the desperation the customer has regarding finances\n",
        "*   **C_History_Years**: Longer History of credit gives an idea that the customer has experience in this field and has a good track record to still get a loan from the company\n",
        "*   **Num_of_Loan**: Larger no. of loans decreases the customers ability to pay credits due to the financial strains\n",
        "*   **Avg_Monthly_Balance**: Cash in bank after month end tells about the financial well being of the customers"
      ]
    },
    {
      "cell_type": "code",
      "execution_count": null,
      "metadata": {
        "id": "WnorfMd5XnjD"
      },
      "outputs": [],
      "source": [
        "# Picking Relevant Columns and doing Linear regression\n",
        "\n",
        "X = cs[['Annual_Income',\n",
        "        'Num_of_Loan',\n",
        "        'Num_Credit_Inquiries',\n",
        "        'Credit_Mix_Rating',\n",
        "        'Outstanding_Debt',\n",
        "        'Avg_Credit_Utilization_Ratio',\n",
        "        'C_History_Years',\n",
        "        'Avg_Monthly_Balance']]\n",
        "\n",
        "y = cs['FICO_Rating']\n",
        "\n",
        "model = LinearRegression()\n",
        "model.fit(X, y)\n",
        "\n",
        "weights = model.coef_\n",
        "\n",
        "\n",
        "# Multiplying the Columns with Weights from Linear Regression to create new Ratings\n",
        "\n",
        "cs['r2'] = cs[['Annual_Income',\n",
        "        'Num_of_Loan',\n",
        "        'Num_Credit_Inquiries',\n",
        "        'Credit_Mix_Rating',\n",
        "        'Outstanding_Debt',\n",
        "        'Avg_Credit_Utilization_Ratio',\n",
        "        'C_History_Years',\n",
        "        'Avg_Monthly_Balance']].mul(weights, axis=1).sum(axis=1)\n",
        "\n",
        "# Calculating and adding biases to the newly created Ratings\n",
        "\n",
        "bias = (cs['FICO_Rating'] - cs['r2']).mean()\n",
        "cs['r2'] = cs['r2'] + bias\n",
        "\n",
        "score_categ('r2', cs)\n",
        "rating_acc('r2_category','FICO_Rating_category', cs)"
      ]
    },
    {
      "cell_type": "code",
      "execution_count": null,
      "metadata": {
        "id": "lm8sv78Oxd1r"
      },
      "outputs": [],
      "source": [
        "# Comparing Matches in Predictions with FiCO ratings\n",
        "\n",
        "print(cs['r2_category_accuracy'].value_counts())\n",
        "\n",
        "# Visualising the ratings\n",
        "\n",
        "sns.kdeplot(data = cs[['r2','FICO_Rating']], shade=True)\n",
        "plt.xlabel('Ratings')\n",
        "plt.ylabel('Density')\n",
        "plt.title('Ratings Comparison')\n",
        "plt.show()"
      ]
    },
    {
      "cell_type": "markdown",
      "metadata": {
        "id": "KqPT1E5uyUat"
      },
      "source": [
        "Rating - 3: Not considering the Salaries, Customer History or Monthly Balance of the customers. It doesn't rely on customer income source, but their behaviour of loan/credit repayments\n",
        "\n",
        "**Factors that affect the ratings**\n",
        "\n",
        "\n",
        "*   **Num_Credit_Inquiries**: Higher no. of credit inquiries can give an understanding of the person's loan/ credit tendencies\n",
        "*   **Credit_Mix_Rating**: Good Credit mix can show that the person is not struggling and can buy different things at different stages of their lives\n",
        "*   **Outstanding_Debt**: Outstanding debt gives an idea about how much credit load the customer already has that can affect his credit paying back ability\n",
        "*   **Avg_Credit_Utilization_Ratio**: This ratio gives an idea about the desperation the customer has regarding finances\n",
        "*   **Num_of_Loan**: Larger no. of loans decreases the customers ability to pay credits due to the financial strains\n",
        "*   **Avg_Num_of_Delayed_Payment**: Tells about how serious the customer takes his loan/credits as\n",
        "\n",
        "\n"
      ]
    },
    {
      "cell_type": "code",
      "execution_count": null,
      "metadata": {
        "id": "_g6veNMOYEiz"
      },
      "outputs": [],
      "source": [
        "# Picking Relevant Columns and doing Linear regression\n",
        "\n",
        "X = cs[['Num_of_Loan',\n",
        "        'Avg_Num_of_Delayed_Payment',\n",
        "        'Num_Credit_Inquiries',\n",
        "        'Credit_Mix_Rating',\n",
        "        'Outstanding_Debt',\n",
        "        'Avg_Credit_Utilization_Ratio']]\n",
        "\n",
        "y = cs['FICO_Rating']\n",
        "\n",
        "model = LinearRegression()\n",
        "model.fit(X, y)\n",
        "\n",
        "weights = model.coef_\n",
        "\n",
        "\n",
        "# Multiplying the Columns with Weights from Linear Regression to create new Ratings\n",
        "\n",
        "cs['r3'] = cs[['Num_of_Loan',\n",
        "        'Avg_Num_of_Delayed_Payment',\n",
        "        'Num_Credit_Inquiries',\n",
        "        'Credit_Mix_Rating',\n",
        "        'Outstanding_Debt',\n",
        "        'Avg_Credit_Utilization_Ratio']].mul(weights, axis=1).sum(axis=1)\n",
        "\n",
        "# Calculating and adding biases to the newly created Ratings\n",
        "\n",
        "bias = (cs['FICO_Rating'] - cs['r3']).mean()\n",
        "cs['r3'] = cs['r3'] + bias\n",
        "\n",
        "score_categ('r3', cs)\n",
        "rating_acc('r3_category','FICO_Rating_category', cs)"
      ]
    },
    {
      "cell_type": "code",
      "execution_count": null,
      "metadata": {
        "collapsed": true,
        "id": "Th2WnFAkYUCi"
      },
      "outputs": [],
      "source": [
        "# Comparing Matches in Predictions with FiCO ratings\n",
        "\n",
        "print(cs['r3_category_accuracy'].value_counts())\n",
        "\n",
        "# Visualising the ratings\n",
        "\n",
        "sns.kdeplot(data = cs[['r3','FICO_Rating']], shade=True)\n",
        "plt.xlabel('Ratings')\n",
        "plt.ylabel('Density')\n",
        "plt.title('Ratings Comparison')\n",
        "plt.show()"
      ]
    },
    {
      "cell_type": "code",
      "execution_count": null,
      "metadata": {
        "id": "TIC1PZagZMLR"
      },
      "outputs": [],
      "source": [
        "cs[['FICO_Rating','FICO_Rating_category',\n",
        "    'r1','r1_category','r1_category_accuracy',\n",
        "    'r2','r2_category','r2_category_accuracy',\n",
        "    'r3','r3_category','r3_category_accuracy']].head(10)"
      ]
    }
  ],
  "metadata": {
    "colab": {
      "collapsed_sections": [
        "ZImvu3iaok_g",
        "I15HkyXFopjF",
        "HlgbdzGATMWv",
        "f1mG8UXLSQiA"
      ],
      "provenance": [],
      "authorship_tag": "ABX9TyPlApywAWCNugcJ9/LQfYNu",
      "include_colab_link": true
    },
    "kernelspec": {
      "display_name": "Python 3",
      "name": "python3"
    },
    "language_info": {
      "name": "python"
    }
  },
  "nbformat": 4,
  "nbformat_minor": 0
}